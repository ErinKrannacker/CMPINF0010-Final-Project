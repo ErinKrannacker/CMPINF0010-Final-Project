{
 "cells": [
  {
   "cell_type": "markdown",
   "metadata": {},
   "source": [
    "# Final Project: Team M.E.M"
   ]
  },
  {
   "cell_type": "markdown",
   "metadata": {},
   "source": [
    "***"
   ]
  },
  {
   "cell_type": "markdown",
   "metadata": {},
   "source": [
    "### Definition of \"Best Neighborhood\":\n",
    "* We defined the best neighborhood as the place that was the best in leisure activities for kids and families, since this would make it a very fun place to live. We looked at some data sets, and found a few that would support this idea. We used those data sets to create our metric."
   ]
  },
  {
   "cell_type": "markdown",
   "metadata": {},
   "source": [
    "### Metric:\n",
    "* The metric that we used to measure the best neighborhood is the number of playgrounds, the number of playing fields, and the largest pool capacity in gallons."
   ]
  },
  {
   "cell_type": "markdown",
   "metadata": {},
   "source": [
    "***"
   ]
  },
  {
   "cell_type": "markdown",
   "metadata": {},
   "source": [
    "### Data:\n",
    "* We then began to analyze our data to determine the best neighborhood."
   ]
  },
  {
   "cell_type": "code",
   "execution_count": 30,
   "metadata": {},
   "outputs": [],
   "source": [
    "#load pandas\n",
    "import pandas as pd\n",
    "import numpy as np\n",
    "%matplotlib inline\n",
    "import matplotlib.pyplot as plt\n",
    "import matplotlib\n",
    "\n",
    "#Each set of data is loaded in its section."
   ]
  },
  {
   "cell_type": "markdown",
   "metadata": {},
   "source": [
    "***"
   ]
  },
  {
   "cell_type": "markdown",
   "metadata": {},
   "source": [
    "### The Playgrounds of Pittsburgh:\n",
    "* I worked on figuring out which neighborhoods had the **most playgrounds**. "
   ]
  },
  {
   "cell_type": "code",
   "execution_count": 32,
   "metadata": {},
   "outputs": [],
   "source": [
    "#load data from WPRDC\n",
    "playgrounds = pd.read_csv(\"./Files/playgrounds.csv\", index_col=\"id\", parse_dates=True)\n",
    "\n",
    "playgrounds.head()"
   ]
  },
  {
   "cell_type": "markdown",
   "metadata": {},
   "source": [
    "* Since the table was set up by the name of the playground, I went off of the \"neighborhood\" column to see how many times each neighborhood showed up. "
   ]
  },
  {
   "cell_type": "code",
   "execution_count": 33,
   "metadata": {},
   "outputs": [],
   "source": [
    "p2 = playgrounds['neighborhood'].value_counts()\n",
    "print(p2)"
   ]
  },
  {
   "cell_type": "markdown",
   "metadata": {},
   "source": [
    "* I then used this information to make a bar plot to see the data more clearly."
   ]
  },
  {
   "cell_type": "code",
   "execution_count": 34,
   "metadata": {},
   "outputs": [],
   "source": [
    "bPlot = p2.plot.bar(legend=False, figsize = (15,5))\n",
    "plt.title(\"Playgrounds In Neighborhoods\")\n",
    "plt.xlabel(\"Neighborhoods\")   \n",
    "plt.ylabel(\"Number of Playgrounds\")"
   ]
  },
  {
   "cell_type": "markdown",
   "metadata": {},
   "source": [
    "* I made a couple more bar plots, narrowing down the data each time so it would be easier to see which neighborhoods are the \"best.\""
   ]
  },
  {
   "cell_type": "code",
   "execution_count": 35,
   "metadata": {},
   "outputs": [],
   "source": [
    "#narrow down to 3 or more\n",
    "moreThanTwo = p2.loc[p2>2]\n",
    "moreThanTwo.plot.bar(legend=False, figsize = (10,5))\n",
    "plt.title(\"Neighborhoods With Three or More Playgrounds\")\n",
    "plt.xlabel(\"Neighborhoods\")\n",
    "plt.ylabel(\"Number of Playgrounds\")"
   ]
  },
  {
   "cell_type": "code",
   "execution_count": 36,
   "metadata": {},
   "outputs": [],
   "source": [
    "#narrow down to 4 or more\n",
    "moreThanThree = p2.loc[p2>3]\n",
    "moreThanThree.plot.bar(legend=False, figsize = (10,5))\n",
    "plt.title(\"Neighborhoods With Four or More Playgrounds\")\n",
    "plt.xlabel(\"Neighborhoods\")\n",
    "plt.ylabel(\"Number of Playgrounds\")"
   ]
  },
  {
   "cell_type": "markdown",
   "metadata": {},
   "source": [
    "#### The Results: \n",
    "* From this, I determined that:\n",
    "    1. **Squirrel Hill South** had the **most** playgrounds, at **8**.\n",
    "    2. **Beechview** and **South Side Slopes** tied for **second**, both having **5**.\n",
    "    3. **Highland Park, Allegheny Center, Beltzhoover**, and **Sheraden** are all tied at **third**, with **4** playgrounds."
   ]
  },
  {
   "cell_type": "markdown",
   "metadata": {},
   "source": [
    "***"
   ]
  },
  {
   "cell_type": "markdown",
   "metadata": {},
   "source": [
    "### The Playing Fields of Pittsburgh:"
   ]
  },
  {
   "cell_type": "markdown",
   "metadata": {},
   "source": [
    "First, I intialized the variables playing_fields and playing_fields_names for my dataset."
   ]
  },
  {
   "cell_type": "code",
   "execution_count": 8,
   "metadata": {},
   "outputs": [],
   "source": [
    "#load data from WPRDC\n",
    "playing_fields = pd.read_csv(\"https://data.wprdc.org/datastore/dump/6af89346-b971-41d5-af09-49cfdb4dfe23\", index_col = \"neighborhood\", parse_dates = True)\n",
    "playing_fields_names = pd.read_csv(\"https://data.wprdc.org/datastore/dump/6af89346-b971-41d5-af09-49cfdb4dfe23\", index_col = \"id\", parse_dates = True)"
   ]
  },
  {
   "cell_type": "markdown",
   "metadata": {},
   "source": [
    "I utilized the len() function, groupby operation, and the count() function in order to calculate the number of playing fields within the neighborhoods of Pittsburgh."
   ]
  },
  {
   "cell_type": "code",
   "execution_count": 37,
   "metadata": {},
   "outputs": [],
   "source": [
    "number_of_playing_fields = len(playing_fields.groupby(\"neighborhood\").count())\n",
    "print(\"The city of Pittsburgh has a total of \" + str(number_of_playing_fields) + \" playing fields in its neighborhoods.\")"
   ]
  },
  {
   "cell_type": "markdown",
   "metadata": {},
   "source": [
    "Here I made the decision to place each neighborhood into a list and reuse the groupby function to later create a dataframe and loop through that list."
   ]
  },
  {
   "cell_type": "code",
   "execution_count": 39,
   "metadata": {},
   "outputs": [],
   "source": [
    "#neighborhood_names = playing_fields.groupby(\"neighborhood\").count()\n",
    "neighborhood_names = []\n",
    "for i in playing_fields_names[\"neighborhood\"]:\n",
    "    if i not in neighborhood_names:\n",
    "        neighborhood_names.append(i)\n",
    "    else:\n",
    "        continue\n",
    "neighborhood_names = sorted(neighborhood_names)\n",
    "print(neighborhood_names)\n",
    "\n",
    "playing_fields.groupby(\"neighborhood\").count()"
   ]
  },
  {
   "cell_type": "markdown",
   "metadata": {},
   "source": [
    "I placed all of the neighborhoods into a DataFrame called playing_fields_per_neighborhood. \n",
    "After this, I decided to use a bar graph to represent this data because it would make it easier to interpret as opposed to other graphs."
   ]
  },
  {
   "cell_type": "code",
   "execution_count": 40,
   "metadata": {},
   "outputs": [],
   "source": [
    "playing_fields_per_neighborhood = pd.DataFrame({\"neighborhood\": [\"Allegheny Center\", \"Allentown\", \"Arlington\", \"Banksville\", \"Bedford Dwellings\", \"Beechview\", \"Beltzhoover\", \"Brighton Heights\", \n",
    "                                                                 \"Brookline\", \"Carrick\", \"Central Lawrenceville\", \"Central Oakland\", \"Crafton Heights\", \"East Hills\", \"East Liberty\", \"Elliott\", \n",
    "                                                                 \"Fineview\", \"Garfield\", \"Greenfield\", \"Hazelwood\", \"Highland Park\", \"Homewood South\", \"Larimer\", \"Lincoln Place\", \n",
    "                                                                 \"Lincoln-Lemington-Belmar\", \"Lower Lawrenceville\", \"Manchester\", \"Marshall-Shadeland\", \"Morningside\", \"Mount Washington\", \n",
    "                                                                 \"Oakwood\", \"Perry North\", \"Perry South\", \"Polish Hill\", \"Regent Square\", \"Shadyside\", \"Sheraden\", \"South Oakland\", \"South Side Flats\",\n",
    "                                                                 \"South Side Slopes\", \"Spring Garden\", \"Spring Hill-City View\", \"Squirrel Hill North\", \"Squirrel Hill South\", \"Stanton Heights\", \n",
    "                                                                 \"Terrace Village\", \"Troy Hill\", \"Upper Lawrenceville\", \"West End\", \"Westwood\", \"Windgap\"], \n",
    "                                                \"amount of playing fields\" : [2, 1, 1, 2, 2, 3, 3, 7, 6, 5, 2, 1, 2, 1, 1, 2, 1, 1, 2, 4, 4, 1, 1, 1, 2, 4, 2, 1, 3, 3, 1, 2, 1, 1, 2, 3, 3, \n",
    "                                                                              2, 2, 6, 1, 2, 1, 5, 1, 1, 3, 1, 1, 2, 1]})\n",
    "playing_field_bargraph = playing_fields_per_neighborhood.plot.bar(x = \"neighborhood\", legend = False, figsize = (20, 5))\n",
    "plt.ylabel(\"Amount of Playing Fields\")\n",
    "plt.title(\"Playing Fields Per Neighborhood\")"
   ]
  },
  {
   "cell_type": "markdown",
   "metadata": {},
   "source": [
    "Next, I found the number of playing fields in the neighborhoods of Pittsburgh, as well as the mean number of playing fields per neighborhood."
   ]
  },
  {
   "cell_type": "code",
   "execution_count": 41,
   "metadata": {},
   "outputs": [],
   "source": [
    "pitts_playing_fields = 0 \n",
    "for i in range(51):\n",
    "    pitts_playing_fields = pitts_playing_fields + playing_fields_per_neighborhood[\"amount of playing fields\"][i]\n",
    "\n",
    "mean = pitts_playing_fields / 51\n",
    "\n",
    "print(\"The total number of playing fields in the city of Pittsburgh is \" + str(pitts_playing_fields) + \".\")\n",
    "print(\"The mean number of playing fields per neighborhood in the city of Pittsburgh is \" + str(mean) + \".\")"
   ]
  },
  {
   "cell_type": "markdown",
   "metadata": {},
   "source": [
    "Finally, I used a for loop to calculate the number of neighborhooods with a total amount of playing fields greater than the mean."
   ]
  },
  {
   "cell_type": "code",
   "execution_count": 42,
   "metadata": {},
   "outputs": [],
   "source": [
    "for i in range(51):\n",
    "    if playing_fields_per_neighborhood[\"amount of playing fields\"][i] > 2:\n",
    "        print(playing_fields_per_neighborhood[\"neighborhood\"][i])"
   ]
  },
  {
   "cell_type": "code",
   "execution_count": 43,
   "metadata": {},
   "outputs": [],
   "source": [
    "top15_neighborhoods = pd.DataFrame({\"top 15 neighborhoods\": [\"Beechview\", \"Beltzhoover\", \"Brighton Heights\", \"Brookline\", \"Carrick\",\n",
    "                                                            \"Hazelwood\", \"Highland Park\", \"Lower Lawrenceville\", \"Morningside\",\n",
    "                                                            \"Mount Washington\", \"Shadyside\", \"Sheraden\", \"South Side Slopes\", \n",
    "                                                            \"Squirrel Hill South\", \"Troy Hill\"], \n",
    "                                    \"amount of playing fields\": [3, 3, 7, 6, 5, 4, 4, 4, 3, 3, 3, 3, 6, 5, 3]})\n",
    "top15_neighborhoods_bargraph = top15_neighborhoods.plot.bar(x = \"top 15 neighborhoods\", legend = False, figsize = (20, 5))\n",
    "plt.ylabel(\"amount of playing fields\")\n",
    "plt.title(\"Top 15 Neighborhoods for Playing Fields\")"
   ]
  },
  {
   "cell_type": "markdown",
   "metadata": {},
   "source": [
    "#### The Results:\n",
    "The Neighborhood that has the greatest amount of playing fields is Brighton Heights. It leads Pittsburgh with seven total.\n",
    "Brookline and South Side Slopes each follow with six playing fields, which is the second most.\n",
    "Carrick and Stanton Heights each have five, which is the third most. \n",
    "Additionally, ten other neighborhoods had three playing fields (which was greater than the mean)."
   ]
  },
  {
   "cell_type": "markdown",
   "metadata": {},
   "source": [
    "***"
   ]
  },
  {
   "cell_type": "markdown",
   "metadata": {},
   "source": [
    "### The Pools of Pittsburgh:"
   ]
  },
  {
   "cell_type": "code",
   "execution_count": 44,
   "metadata": {},
   "outputs": [],
   "source": [
    "# load data from file\n",
    "pools = pd.read_csv(\"https://data.wprdc.org/datastore/dump/5cc254fe-2cbd-4912-9f44-2f95f0beea9a\", index_col = \"neighborhood\")\n",
    "pools.head(30)"
   ]
  },
  {
   "cell_type": "markdown",
   "metadata": {},
   "source": [
    "This table organizes all the data from the Pittsburgh Pools dataset by neighborhood."
   ]
  },
  {
   "cell_type": "code",
   "execution_count": 45,
   "metadata": {},
   "outputs": [],
   "source": [
    "# dropped unnecessary columns from the data leaving only capacity column left\n",
    "pools2 = pools.drop(['id','name','type','retired', 'water_source', 'image', 'council_district', 'ward', 'tract', 'public_works_division', 'pli_division', 'police_zone', 'fire_zone', 'latitude', 'longitude'], axis=1)\n",
    "pools2.head(30)"
   ]
  },
  {
   "cell_type": "markdown",
   "metadata": {},
   "source": [
    "Now I removed all of the unnecessary columns for our analysis. After doing this, I was only left with the capacity and neighborhood columns."
   ]
  },
  {
   "cell_type": "code",
   "execution_count": 46,
   "metadata": {},
   "outputs": [],
   "source": [
    "# now need to remove any rows that have a NaN capacity \n",
    "pools2 = pools2.dropna()\n",
    "pools2.head(30)"
   ]
  },
  {
   "cell_type": "markdown",
   "metadata": {},
   "source": [
    "From the table before, I noticed that some of the pools have NaN capacity. Upon further investigation, I realizedthat those pools are spray parks or children pools. I do not want to include those pools in our analysis because I want to determine the best pool among actual pools made for adults. So, I dropped the NaN rows and created a new table for better visualization."
   ]
  },
  {
   "cell_type": "code",
   "execution_count": 47,
   "metadata": {},
   "outputs": [],
   "source": [
    "#plotting the data to get a better visual\n",
    "poolPlot = pools2.plot.bar(legend=False, figsize = (15,10))\n",
    "plt.xlabel(\"Neighborhood\")\n",
    "plt.title(\"Capacity of pools in Neighborhoods\")\n",
    "plt.ylabel(\"Pool Capacity (in gallons)\")"
   ]
  },
  {
   "cell_type": "markdown",
   "metadata": {},
   "source": [
    "This is a bar graph of all the applicable Pittsburgh pools and their corresponding capacity (in gallons)"
   ]
  },
  {
   "cell_type": "code",
   "execution_count": 48,
   "metadata": {},
   "outputs": [],
   "source": [
    "#narrow down the capacity to be above 200000\n",
    "greaterThan2 = pools2.loc[pools2['capacity'] > 200000]\n",
    "greaterThan2.plot.bar(legend=False, figsize = (15,10))\n",
    "plt.xlabel(\"neighborhood\")\n",
    "plt.title(\"Capacity of pools in Neighborhoods\")\n",
    "plt.ylabel(\"Pool Capacity (in gallons)\")"
   ]
  },
  {
   "cell_type": "markdown",
   "metadata": {},
   "source": [
    "In order to find the largest pool, I narrowed it down so that only the pools greater than 200000 gallons were graphed."
   ]
  },
  {
   "cell_type": "code",
   "execution_count": 49,
   "metadata": {},
   "outputs": [],
   "source": [
    "#plotting data for capacity greater than 300000\n",
    "greaterThan3 = pools2.loc[pools2['capacity'] > 300000]\n",
    "greaterThan3.plot.bar(legend=False, figsize = (15,10))\n",
    "plt.xlabel(\"neighborhood\")\n",
    "plt.title(\"Capacity of pools in Neighborhoods\")\n",
    "plt.ylabel(\"Pool Capacity (in gallons)\")"
   ]
  },
  {
   "cell_type": "markdown",
   "metadata": {},
   "source": [
    "The graph before did not narrow down the pools enough, so I narrowed the pools even further and decided to graph the pools with a capacity greater than 300000 gallons"
   ]
  },
  {
   "cell_type": "code",
   "execution_count": 50,
   "metadata": {},
   "outputs": [],
   "source": [
    "greaterThan3.sort_values(\"capacity\", ascending=False).head"
   ]
  },
  {
   "cell_type": "markdown",
   "metadata": {},
   "source": [
    "Lastly, I sorted the final graphs values from descending order to gain a better understanding of which pool in each neighborhood have the largest capacity in gallons."
   ]
  },
  {
   "cell_type": "markdown",
   "metadata": {},
   "source": [
    "#### The Results:\n",
    "\n",
    "The pool with the largest capacity in gallons is loacted in Highland Park with 560242 gallons. Bedford Dwellings follows for second place at 538000 gallons, and Brookline comes in third at 417657 gallons."
   ]
  },
  {
   "cell_type": "markdown",
   "metadata": {},
   "source": [
    "***"
   ]
  },
  {
   "cell_type": "markdown",
   "metadata": {},
   "source": [
    "### Conclusion: What is the best neighborhood?\n",
    "* Summary of Data Sets (top neighborhoods from above, and broadened where needed):\n",
    "    * Playgrounds:\n",
    "        1. Squirrel Hill South had 8 playgrounds\n",
    "        2. Beechview and South Side Slopes had 5 playgrounds.\n",
    "        3. Highland Park, Allegheny Center, Beltzhoover, and Sheraden had 4 playgrounds. \n",
    "        4. Three Playgrounds: Carrick, Elliot, Mount Washington, Uppper Lawrenceville, Hazelwood, East Liberty, Crawford-Roberts, South Oakland.\n",
    "        5. Two Playgrounds: Brighton Heights. (not all listed) \n",
    "    * Playing Fields:\n",
    "        1. The Neighborhood that has the greatest amount of playing fields is Brighton Heights. It leads Pittsburgh with seven total.\n",
    "        2. Brookline and South Side Slopes each follow with six playing fields, which is the second most.\n",
    "        3. Carrick and Stanton Heights each have five, which is the third most. \n",
    "        4. Four Fields: Hazelwood, Highland Park, Lower Lawrenceville.\n",
    "        5. Three Fields: Beechview, Beltzhoover, Morningside, Mount Washington, Shadyside, Sheredan, Troy Hill.\n",
    "    * Pools:\n",
    "        1. The pool with the largest capacity in gallons is loacted in Highland Park with 560242 gallons. \n",
    "        2. Bedford Dwellings follows for second place at 538000 gallons.\n",
    "        3. Brookline comes in third at 417657 gallons.\n",
    "        4. Mount Washington had 356000 gallons.\n",
    "        5. Bloomfield had 335000 gallons. \n",
    "        6. Sheraden had 278000 gallons. \n",
    "        7. Allegheny Center had 271000 gallons. \n",
    "        8. Carrick had 224100 gallons.\n",
    "        9. Polish Hill had 215451 gallons. \n",
    "        10. Brighton Heights and South Side Flats had 205800 gallons.\n",
    "        11. Perry North had 205800 gallons. "
   ]
  },
  {
   "cell_type": "markdown",
   "metadata": {},
   "source": [
    "#### Our Best Neighborhood: Highland Park\n",
    "* Our data sets had many top neighborhoods in common, but none the exact same as the \"absolute top best.\" so we had to go down the lists a bit to compare. We did several comparisons to pick:\n",
    "    * Carrick was third in playing fields, fourth in playgrounds, and eighth in pools.\n",
    "    * Beechview was second in playgrounds and fifth in playing fields, but had a NaN value for pools. \n",
    "    * Brighton Heights was first in playing fields, tenth in pools, and fifth in playgrounds. \n",
    "    * Highland Park was first in pools, third in playgrounds, and fourth in playing fields.\n",
    "    \n",
    "* These are the comparisons that led us to chose Highland Park as the \"Best Neighborhood in Pittsburgh.\" With a 560242 gallon pool capacity, 4 playgrounds, and 4 playing fields, while it wasn't the highest in every category, none of the other neighborhoods could come close to it. "
   ]
  },
  {
   "cell_type": "markdown",
   "metadata": {},
   "source": [
    "#### Erin's Conclusion:\n",
    "* I was kind of shocked by the results, just because I had never heard the name \"Highland Park\" before. My family is from Pittsburgh, but I haven't lived there since I've been 10, so I'm not very familiar with the different neighborhoods. So, I decided to look it up. [On the Pittsburgh Parks website](https://pittsburghparks.org/explore-your-parks/regional-parks/highland-park/) I found that it has \"...a popular bike track, swimming pool, sand volleyball courts, and the Pittsburgh Zoo and PPG Aquarium.\" I found that neat, since it fits with our metric. I feel that this, along with our data, supports the idea of Highland Park being the best neighborhood in Pittsburgh. "
   ]
  },
  {
   "cell_type": "markdown",
   "metadata": {},
   "source": [
    "#### Michael's Conclusion:\n",
    "* I am not very familiar with the neighborhoods of Pittsburgh, but the results of our study were not all that unpredictable. For example, the city that was the best neighborhood by our metric and standard of bestness of a neighborhood in Pittsburgh was Highland Park and it had a total area of 1.163 mi². On the other hand, the neighborhood, Stanton Heights that ranked poorly by our metric and standard of bestness had 470 acres (which is less than the area of Highland Park). So, it makes sense that Highland Park ranked higher because it has more room for pools, playgrounds, and playing fields. This is further evidence that our conclusion that Highland Park is the best neighborhood in Pittsburgh is reliable."
   ]
  },
  {
   "cell_type": "markdown",
   "metadata": {},
   "source": [
    "#### Meryem's Conclusion:\n",
    "* Although I am from Pittsburgh, I was very shocked to see that Highland Park was rated as the best neighborhood. I have lived here my whole life, but I have never even heard of the neighborhood Highland Park. However, based on the metrics we chose and data we collected, I trust that Highland Park is considered the best neighborhood in Pittsburgh."
   ]
  }
 ],
 "metadata": {
  "kernelspec": {
   "display_name": "Python 3",
   "language": "python",
   "name": "python3"
  },
  "language_info": {
   "codemirror_mode": {
    "name": "ipython",
    "version": 3
   },
   "file_extension": ".py",
   "mimetype": "text/x-python",
   "name": "python",
   "nbconvert_exporter": "python",
   "pygments_lexer": "ipython3",
   "version": "3.8.3"
  }
 },
 "nbformat": 4,
 "nbformat_minor": 4
}
